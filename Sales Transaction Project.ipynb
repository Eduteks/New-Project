{
 "cells": [
  {
   "cell_type": "markdown",
   "id": "a7c2b3d0-a291-4daf-9bbd-c27d728aae3a",
   "metadata": {},
   "source": [
    "Problem Statement\n",
    "\n",
    "The project aims to analyze transactional data from an e-commerce business to derive insights into sales trends, product popularity, customer behavior, and profitability. \n",
    "The evaluation method used will involve both descriptive analysis and predictive modeling. By addressing these objectives and leveraging the insights obtained from the analysis, the project aims to provide actionable recommendations to the business to optimize sales, enhance customer satisfaction, and increase profitability."
   ]
  },
  {
   "cell_type": "code",
   "execution_count": 1,
   "id": "a1306ae2-321d-49c7-87df-e8671dd792e6",
   "metadata": {
    "tags": []
   },
   "outputs": [],
   "source": [
    "# https://www.kaggle.com/datasets/gabrielramos87/an-online-shop-business\n",
    "# Import necessary libraries\n",
    "import pandas as pd\n",
    "import matplotlib.pyplot as plt\n",
    "import seaborn as sns\n",
    "from sklearn.linear_model import LinearRegression\n",
    "from sklearn.preprocessing import LabelEncoder, OneHotEncoder\n",
    "from sklearn.model_selection import train_test_split\n",
    "from sklearn.impute import SimpleImputer\n",
    "from sklearn.metrics import mean_squared_error, r2_score, mean_absolute_error\n",
    "import numpy as np\n",
    "from sklearn.tree import DecisionTreeRegressor\n",
    "from sklearn.ensemble import RandomForestRegressor\n",
    "from sklearn.ensemble import GradientBoostingRegressor"
   ]
  },
  {
   "cell_type": "code",
   "execution_count": 2,
   "id": "f7126f53-15de-4906-aefe-4b36a1afd4e1",
   "metadata": {
    "tags": []
   },
   "outputs": [
    {
     "data": {
      "text/plain": [
       "'We load the dataset that we aim to analyze and view the firth 5 rows to have a glimpse of the data.'"
      ]
     },
     "execution_count": 2,
     "metadata": {},
     "output_type": "execute_result"
    }
   ],
   "source": [
    "df=pd.read_csv(\"Sales Transaction.csv\")\n",
    "df.head(5)\n",
    "\n",
    "\"\"\"We load the dataset that we aim to analyze and view the firth 5 rows to have a glimpse of the data.\"\"\""
   ]
  },
  {
   "cell_type": "markdown",
   "id": "fc99374f-841f-42d1-ab72-ea74a80df3ea",
   "metadata": {
    "tags": []
   },
   "source": [
    "Define the Problem Statement\n",
    "We want to predict the price of products based on different attributes."
   ]
  },
  {
   "cell_type": "code",
   "execution_count": 3,
   "id": "e547251a-ded7-4030-b92a-790e49b8b3bf",
   "metadata": {
    "tags": []
   },
   "outputs": [
    {
     "name": "stdout",
     "output_type": "stream",
     "text": [
      "<class 'pandas.core.frame.DataFrame'>\n",
      "RangeIndex: 536350 entries, 0 to 536349\n",
      "Data columns (total 8 columns):\n",
      " #   Column         Non-Null Count   Dtype  \n",
      "---  ------         --------------   -----  \n",
      " 0   TransactionNo  536350 non-null  object \n",
      " 1   Date           536350 non-null  object \n",
      " 2   ProductNo      536350 non-null  object \n",
      " 3   ProductName    536350 non-null  object \n",
      " 4   Price          536350 non-null  float64\n",
      " 5   Quantity       536350 non-null  int64  \n",
      " 6   CustomerNo     536295 non-null  float64\n",
      " 7   Country        536350 non-null  object \n",
      "dtypes: float64(2), int64(1), object(5)\n",
      "memory usage: 32.7+ MB\n",
      "TransactionNo     0\n",
      "Date              0\n",
      "ProductNo         0\n",
      "ProductName       0\n",
      "Price             0\n",
      "Quantity          0\n",
      "CustomerNo       55\n",
      "Country           0\n",
      "dtype: int64\n"
     ]
    }
   ],
   "source": [
    "# Check for missing values in the dataset\n",
    "df.info()\n",
    "print(df.isnull().sum())"
   ]
  },
  {
   "cell_type": "markdown",
   "id": "b52ca767-238c-4985-a4b0-4368b41b031b",
   "metadata": {
    "tags": []
   },
   "source": [
    "Data Preprocessing and Feature Engineering"
   ]
  },
  {
   "cell_type": "code",
   "execution_count": 4,
   "id": "348f60ce-3992-4ce6-834c-bf9144571889",
   "metadata": {
    "tags": []
   },
   "outputs": [],
   "source": [
    "# Split the data into training, validation, and test sets\n",
    "df_train, df_test = train_test_split(df, test_size=0.2, random_state=42)\n",
    "df_train, df_val = train_test_split(df_train, test_size=0.5, random_state=42)"
   ]
  },
  {
   "cell_type": "code",
   "execution_count": 5,
   "id": "65f02faf-dd15-43c9-8ace-86fe23754365",
   "metadata": {
    "tags": []
   },
   "outputs": [],
   "source": [
    "# Extract 'Month' and 'DayOfWeek' from the 'Date' column\n",
    "df_train['Date'] = pd.to_datetime(df_train['Date'])\n",
    "df_train['Month'] = df_train['Date'].dt.month\n",
    "df_train['DayOfWeek'] = df_train['Date'].dt.dayofweek\n",
    "# We convert the date and month into computer formart and to check for seasonality in the data"
   ]
  },
  {
   "cell_type": "code",
   "execution_count": 6,
   "id": "82bdd67e-dbd3-4d92-b17d-a0220e1aab8a",
   "metadata": {
    "tags": []
   },
   "outputs": [],
   "source": [
    "# Extract 'Month' and 'DayOfWeek' from the 'Date' column in the validation and test data\n",
    "df_val['Date'] = pd.to_datetime(df_val['Date'])\n",
    "df_val['Month'] = df_val['Date'].dt.month\n",
    "df_val['DayOfWeek'] = df_val['Date'].dt.dayofweek\n",
    "df_test['Date'] = pd.to_datetime(df_test['Date'])\n",
    "df_test['Month'] = df_test['Date'].dt.month\n",
    "df_test['DayOfWeek'] = df_test['Date'].dt.dayofweek\n",
    "# We convert the date and month into computer formart and to check for seasonality in the data"
   ]
  },
  {
   "cell_type": "code",
   "execution_count": 7,
   "id": "b7bca2fc-0940-498d-85b1-6c7e573ca3c4",
   "metadata": {
    "tags": []
   },
   "outputs": [],
   "source": [
    "# Drop rows with missing values in the training data\n",
    "df_train = df_train.dropna()"
   ]
  },
  {
   "cell_type": "code",
   "execution_count": 8,
   "id": "c3040bfd-0d1d-4fa1-b6fd-ba23a92bfa45",
   "metadata": {
    "tags": []
   },
   "outputs": [],
   "source": [
    "# Engineer new features in the training data\n",
    "df_train['TotalSales'] = df_train['Quantity'] * df_train['Price']\n",
    "df_train['AveragePrice'] = df_train['TotalSales'] / df_train['Quantity']\n",
    "# we create 'TotalSales' and 'AveragePrice' to help the model better understand and predict product prices."
   ]
  },
  {
   "cell_type": "code",
   "execution_count": 9,
   "id": "a4d9e164-12c9-4c04-9f46-4b9f036550d6",
   "metadata": {
    "tags": []
   },
   "outputs": [],
   "source": [
    "# Group the training data by month and calculate the total sales for each month\n",
    "monthly_sales = df_train.groupby('Month')['TotalSales'].sum()"
   ]
  },
  {
   "cell_type": "code",
   "execution_count": 10,
   "id": "82d2c5ce-3deb-41dd-8b94-bc923adeb433",
   "metadata": {
    "tags": []
   },
   "outputs": [
    {
     "data": {
      "image/png": "[encoded data removed]",
      "text/plain": [
       "<Figure size 1000x500 with 1 Axes>"
      ]
     },
     "metadata": {},
     "output_type": "display_data"
    }
   ],
   "source": [
    "# Create a line plot to visualize the trend in total sales over time\n",
    "plt.figure(figsize=(10, 5))\n",
    "plt.plot(monthly_sales.index, monthly_sales.values, marker='o', linestyle='-')\n",
    "plt.title('Total Sales Over Time (by Month)')\n",
    "plt.xlabel('Month')\n",
    "plt.ylabel('Total Sales')\n",
    "plt.grid(True)\n",
    "plt.show()\n",
    "# This shows that sales increase towards the end of the year. First quarter is low but gradually improves to have the highest sales in the last quarter possibly due to  holiday shopping."
   ]
  },
  {
   "cell_type": "code",
   "execution_count": 11,
   "id": "df31d660-8a6f-4f13-8d87-02a883f2819e",
   "metadata": {
    "tags": []
   },
   "outputs": [],
   "source": [
    "# Define the total sales ranges\n",
    "sales_ranges = {\n",
    "    'Low Sales': (0, 100),\n",
    "    'Medium Sales': (100, 500),\n",
    "    'High Sales': (500, float('inf'))\n",
    "}\n",
    "\n",
    "# Create a new column 'SalesRange' by mapping total sales to the defined ranges\n",
    "def categorize_sales(total_sales):\n",
    "    for category, (min_range, max_range) in sales_ranges.items():\n",
    "        if min_range <= total_sales <= max_range:\n",
    "            return category\n",
    "df_train['SalesRange'] = df_train['TotalSales'].apply(categorize_sales)\n",
    "# The different sales ranges helps us understand customer behavior and product performance with regards to different seasons."
   ]
  },
  {
   "cell_type": "code",
   "execution_count": 12,
   "id": "d6b4bf40-39e5-49f6-97d4-c0f4cf0da3b8",
   "metadata": {
    "tags": []
   },
   "outputs": [],
   "source": [
    "# Count the number of transactions in each sales range category\n",
    "sales_range_counts = df_train['SalesRange'].value_counts()"
   ]
  },
  {
   "cell_type": "code",
   "execution_count": 13,
   "id": "6fb56d79-0dc6-4906-a3fb-0dd035f1f8a4",
   "metadata": {
    "tags": []
   },
   "outputs": [
    {
     "data": {
      "image/png": "[encoded data removed]",
      "text/plain": [
       "<Figure size 800x500 with 1 Axes>"
      ]
     },
     "metadata": {},
     "output_type": "display_data"
    }
   ],
   "source": [
    "# Create a bar chart to visualize the segmentation of transactions by sales range\n",
    "plt.figure(figsize=(8, 5))\n",
    "sales_range_counts.plot(kind='bar', color='skyblue')\n",
    "plt.title('Transaction Segmentation by Total Sales Ranges')\n",
    "plt.xlabel('Sales Range')\n",
    "plt.ylabel('Number of Transactions')\n",
    "plt.xticks(rotation=45)\n",
    "plt.show()\n",
    "# From the below its is clear that we have more transactions during these low sales periods and fewer transactions during high seasons. This will help in invenstory management, marketing strategies and cash flow management."
   ]
  },
  {
   "cell_type": "code",
   "execution_count": 14,
   "id": "00619fdb-8861-4196-b004-a84c3a54cec9",
   "metadata": {
    "tags": []
   },
   "outputs": [
    {
     "name": "stdout",
     "output_type": "stream",
     "text": [
      "Cream Hanging Heart T-Light Holder    2378\n",
      "Regency Cakestand 3 Tier              2200\n",
      "Jumbo Bag Red Retrospot               2159\n",
      "Party Bunting                         1727\n",
      "Lunch Bag Red Retrospot               1639\n",
      "Assorted Colour Bird Ornament         1501\n",
      "Popcorn Holder                        1476\n",
      "Set Of 3 Cake Tins Pantry Design      1473\n",
      "Pack Of 72 Retrospot Cake Cases       1385\n",
      "Lunch Bag Black Skull                 1350\n",
      "Name: ProductName, dtype: int64\n"
     ]
    },
    {
     "data": {
      "text/plain": [
       "'Below list the most purchased products with cream Hanging Heart T-Light Holder being the most bought followed by Regency Cakestand 3 Tier'"
      ]
     },
     "execution_count": 14,
     "metadata": {},
     "output_type": "execute_result"
    }
   ],
   "source": [
    "# Most Frequently Purchased Products\n",
    "product_counts = df['ProductName'].value_counts().head(10)\n",
    "print(product_counts)\n",
    "\n",
    "\"\"\"Below list the most purchased products with cream Hanging Heart T-Light Holder being the most bought followed by Regency Cakestand 3 Tier\"\"\""
   ]
  },
  {
   "cell_type": "code",
   "execution_count": 15,
   "id": "0fec17cb-51ca-47cf-9424-408733467d96",
   "metadata": {
    "tags": []
   },
   "outputs": [
    {
     "name": "stdout",
     "output_type": "stream",
     "text": [
      "229.28124461299777\n"
     ]
    },
    {
     "data": {
      "text/plain": [
       "'This means that, on average, each transaction involves approximately 229 products.'"
      ]
     },
     "execution_count": 15,
     "metadata": {},
     "output_type": "execute_result"
    }
   ],
   "source": [
    "# Number of Products per Transaction\n",
    "avg_products_per_transaction = df.groupby('TransactionNo')['Quantity'].sum().mean()\n",
    "print(avg_products_per_transaction)\n",
    "\n",
    "\"\"\"This means that, on average, each transaction involves approximately 229 products.\"\"\""
   ]
  },
  {
   "cell_type": "code",
   "execution_count": 16,
   "id": "a47ebe6e-8957-460f-b544-5d1c9c1d95a0",
   "metadata": {
    "tags": []
   },
   "outputs": [
    {
     "name": "stdout",
     "output_type": "stream",
     "text": [
      "CustomerNo\n",
      "14646.0    2108959.95\n",
      "18102.0     897137.36\n",
      "12415.0     895267.24\n",
      "17450.0     876816.01\n",
      "14911.0     873037.90\n",
      "14156.0     683869.28\n",
      "14298.0     634173.99\n",
      "13694.0     630949.58\n",
      "17511.0     627685.41\n",
      "16684.0     518976.78\n",
      "Name: TotalSales, dtype: float64\n"
     ]
    },
    {
     "data": {
      "text/plain": [
       "' Below are the top 10 most profitable customers of the business'"
      ]
     },
     "execution_count": 16,
     "metadata": {},
     "output_type": "execute_result"
    }
   ],
   "source": [
    "# Most profitable segment customers\n",
    "# Ensure TotalSales is calculated for the entire dataset if needed\n",
    "if 'TotalSales' not in df.columns:\n",
    "    df['TotalSales'] = df['Quantity'] * df['Price']\n",
    "\n",
    "# Most profitable segment customers\n",
    "customer_sales = df.groupby('CustomerNo')['TotalSales'].sum()\n",
    "profitable_customers = customer_sales.sort_values(ascending=False).head(10)\n",
    "print(profitable_customers)\n",
    "\n",
    "\"\"\" Below are the top 10 most profitable customers of the business\"\"\""
   ]
  },
  {
   "cell_type": "code",
   "execution_count": 17,
   "id": "7c478f81-52ec-418f-90f9-4e0541bbb1db",
   "metadata": {
    "tags": []
   },
   "outputs": [],
   "source": [
    "# Calculate the correlation matrix for the training data\n",
    "correlation_matrix = df_train[['AveragePrice', 'TotalSales', 'Quantity', 'Price']].corr()"
   ]
  },
  {
   "cell_type": "code",
   "execution_count": 18,
   "id": "62646ee3-2a66-49b3-bc9c-4ad14b8ca282",
   "metadata": {
    "tags": []
   },
   "outputs": [
    {
     "data": {
      "image/png": "[encoded data removed]",
      "text/plain": [
       "<Figure size 800x600 with 2 Axes>"
      ]
     },
     "metadata": {},
     "output_type": "display_data"
    }
   ],
   "source": [
    "# Create a heatmap to visualize correlations\n",
    "plt.figure(figsize=(8, 6))\n",
    "sns.heatmap(correlation_matrix, annot=True, cmap='coolwarm', fmt=\".2f\")\n",
    "plt.title('Correlation Heatmap')\n",
    "plt.show()\n",
    "# From the below it's clear that there is a strong correlation between price and average price and total sales and quantity. There is a low correlation between total sales and price, price and quantity, average price and total sales and quantity"
   ]
  },
  {
   "cell_type": "code",
   "execution_count": 19,
   "id": "c4dd8e56-be4d-47e2-826b-16a0f73ee600",
   "metadata": {
    "tags": []
   },
   "outputs": [],
   "source": [
    "# Convert the 'ProductNo' and 'Country' columns to floats in the training data\n",
    "df_train['ProductNo'] = pd.to_numeric(df_train['ProductNo'], errors='coerce')\n",
    "df_train['Country'] = pd.to_numeric(df_train['Country'], errors='coerce')"
   ]
  },
  {
   "cell_type": "code",
   "execution_count": 20,
   "id": "4cd5435b-6ec9-44d1-bf13-c1de906f9b1d",
   "metadata": {
    "tags": []
   },
   "outputs": [],
   "source": [
    "# Check the data types again in the training data to ensure the conversions were successful\n",
    "for column in ['ProductNo', 'Country']:\n",
    "    if not df_train[column].dtype.name.startswith('float'):\n",
    "        raise ValueError(f'Unable to convert column {column} to float.')"
   ]
  },
  {
   "cell_type": "code",
   "execution_count": 21,
   "id": "0983507b-347b-4a5b-8bfc-b1b25e4e6a99",
   "metadata": {
    "tags": []
   },
   "outputs": [],
   "source": [
    "# Drop rows where the 'ProductName' or 'Price' columns are missing values in the training data\n",
    "df_train = df_train.dropna(subset=['ProductName', 'Price'])"
   ]
  },
  {
   "cell_type": "code",
   "execution_count": 22,
   "id": "98f9e03b-4b51-45b7-a0ae-550b4c1fbd5a",
   "metadata": {
    "tags": []
   },
   "outputs": [],
   "source": [
    "# Perform label encoding for the 'ProductName' column in the training data\n",
    "label_encoder = LabelEncoder()\n",
    "df_train['ProductName_encoded'] = label_encoder.fit_transform(df_train['ProductName'])"
   ]
  },
  {
   "cell_type": "code",
   "execution_count": 23,
   "id": "c3cf8c31-4c77-46c9-b513-61c1dbf5ecdd",
   "metadata": {
    "tags": []
   },
   "outputs": [],
   "source": [
    "# Custom label encoder that handles unseen labels gracefully\n",
    "class CustomLabelEncoder:\n",
    "    def __init__(self):\n",
    "        self.label_mapping = {}\n",
    "        self.current_label = 0\n",
    "\n",
    "    def fit(self, series):\n",
    "        for label in series:\n",
    "            if label not in self.label_mapping:\n",
    "                self.label_mapping[label] = self.current_label\n",
    "                self.current_label += 1\n",
    "\n",
    "    def transform(self, series):\n",
    "        return series.map(self.label_mapping).fillna(self.current_label)\n",
    "\n",
    "# Initialize custom label encoder for 'ProductName' and 'Country'\n",
    "label_encoder_product = CustomLabelEncoder()\n",
    "label_encoder_country = CustomLabelEncoder()"
   ]
  },
  {
   "cell_type": "code",
   "execution_count": 24,
   "id": "b7b66abb-4a62-47e1-9123-821b066bb496",
   "metadata": {
    "tags": []
   },
   "outputs": [],
   "source": [
    "# Fit the custom label encoder on the entire dataset\n",
    "label_encoder_product.fit(df['ProductName'])\n",
    "label_encoder_country.fit(df['Country'])"
   ]
  },
  {
   "cell_type": "code",
   "execution_count": 25,
   "id": "08d0afb3-d959-4d7b-b924-47c2b8d64550",
   "metadata": {
    "tags": []
   },
   "outputs": [],
   "source": [
    "# Apply label encoding to the 'ProductName' and 'Country' columns\n",
    "df['ProductName_encoded'] = label_encoder_product.transform(df['ProductName'])\n",
    "df['Country_encoded'] = label_encoder_country.transform(df['Country'])"
   ]
  },
  {
   "cell_type": "code",
   "execution_count": 26,
   "id": "31f664d9-000a-4375-b7af-cd56cdda606b",
   "metadata": {
    "tags": []
   },
   "outputs": [],
   "source": [
    "# Split the data into training, validation, and test sets\n",
    "df_train, df_test = train_test_split(df, test_size=0.2, random_state=42)\n",
    "df_train, df_val = train_test_split(df_train, test_size=0.5, random_state=42)"
   ]
  },
  {
   "cell_type": "code",
   "execution_count": 27,
   "id": "00006850-2506-4927-8256-b7a8bb259ec8",
   "metadata": {
    "tags": []
   },
   "outputs": [],
   "source": [
    "# Define features and target variables for training, validation, and test data\n",
    "X_train = df_train[['ProductName_encoded', 'Quantity', 'Country_encoded']]\n",
    "y_train = df_train['Price']\n",
    "\n",
    "X_val = df_val[['ProductName_encoded', 'Quantity', 'Country_encoded']]\n",
    "y_val = df_val['Price']\n",
    "\n",
    "X_test = df_test[['ProductName_encoded', 'Quantity', 'Country_encoded']]\n",
    "y_test = df_test['Price']"
   ]
  },
  {
   "cell_type": "markdown",
   "id": "a83133f7-fedb-4f11-a5b9-d9ffee5b2f66",
   "metadata": {},
   "source": [
    "Model Training and Evaluation"
   ]
  },
  {
   "cell_type": "code",
   "execution_count": 28,
   "id": "da8a5656-67d0-4916-a56c-4cffb53a0b34",
   "metadata": {
    "tags": []
   },
   "outputs": [
    {
     "data": {
      "text/html": [
       "<style>#sk-container-id-1 {color: black;}#sk-container-id-1 pre{padding: 0;}#sk-container-id-1 div.sk-toggleable {background-color: white;}#sk-container-id-1 label.sk-toggleable__label {cursor: pointer;display: block;width: 100%;margin-bottom: 0;padding: 0.3em;box-sizing: border-box;text-align: center;}#sk-container-id-1 label.sk-toggleable__label-arrow:before {content: \"▸\";float: left;margin-right: 0.25em;color: #696969;}#sk-container-id-1 label.sk-toggleable__label-arrow:hover:before {color: black;}#sk-container-id-1 div.sk-estimator:hover label.sk-toggleable__label-arrow:before {color: black;}#sk-container-id-1 div.sk-toggleable__content {max-height: 0;max-width: 0;overflow: hidden;text-align: left;background-color: #f0f8ff;}#sk-container-id-1 div.sk-toggleable__content pre {margin: 0.2em;color: black;border-radius: 0.25em;background-color: #f0f8ff;}#sk-container-id-1 input.sk-toggleable__control:checked~div.sk-toggleable__content {max-height: 200px;max-width: 100%;overflow: auto;}#sk-container-id-1 input.sk-toggleable__control:checked~label.sk-toggleable__label-arrow:before {content: \"▾\";}#sk-container-id-1 div.sk-estimator input.sk-toggleable__control:checked~label.sk-toggleable__label {background-color: #d4ebff;}#sk-container-id-1 div.sk-label input.sk-toggleable__control:checked~label.sk-toggleable__label {background-color: #d4ebff;}#sk-container-id-1 input.sk-hidden--visually {border: 0;clip: rect(1px 1px 1px 1px);clip: rect(1px, 1px, 1px, 1px);height: 1px;margin: -1px;overflow: hidden;padding: 0;position: absolute;width: 1px;}#sk-container-id-1 div.sk-estimator {font-family: monospace;background-color: #f0f8ff;border: 1px dotted black;border-radius: 0.25em;box-sizing: border-box;margin-bottom: 0.5em;}#sk-container-id-1 div.sk-estimator:hover {background-color: #d4ebff;}#sk-container-id-1 div.sk-parallel-item::after {content: \"\";width: 100%;border-bottom: 1px solid gray;flex-grow: 1;}#sk-container-id-1 div.sk-label:hover label.sk-toggleable__label {background-color: #d4ebff;}#sk-container-id-1 div.sk-serial::before {content: \"\";position: absolute;border-left: 1px solid gray;box-sizing: border-box;top: 0;bottom: 0;left: 50%;z-index: 0;}#sk-container-id-1 div.sk-serial {display: flex;flex-direction: column;align-items: center;background-color: white;padding-right: 0.2em;padding-left: 0.2em;position: relative;}#sk-container-id-1 div.sk-item {position: relative;z-index: 1;}#sk-container-id-1 div.sk-parallel {display: flex;align-items: stretch;justify-content: center;background-color: white;position: relative;}#sk-container-id-1 div.sk-item::before, #sk-container-id-1 div.sk-parallel-item::before {content: \"\";position: absolute;border-left: 1px solid gray;box-sizing: border-box;top: 0;bottom: 0;left: 50%;z-index: -1;}#sk-container-id-1 div.sk-parallel-item {display: flex;flex-direction: column;z-index: 1;position: relative;background-color: white;}#sk-container-id-1 div.sk-parallel-item:first-child::after {align-self: flex-end;width: 50%;}#sk-container-id-1 div.sk-parallel-item:last-child::after {align-self: flex-start;width: 50%;}#sk-container-id-1 div.sk-parallel-item:only-child::after {width: 0;}#sk-container-id-1 div.sk-dashed-wrapped {border: 1px dashed gray;margin: 0 0.4em 0.5em 0.4em;box-sizing: border-box;padding-bottom: 0.4em;background-color: white;}#sk-container-id-1 div.sk-label label {font-family: monospace;font-weight: bold;display: inline-block;line-height: 1.2em;}#sk-container-id-1 div.sk-label-container {text-align: center;}#sk-container-id-1 div.sk-container {/* jupyter's `normalize.less` sets `[hidden] { display: none; }` but bootstrap.min.css set `[hidden] { display: none !important; }` so we also need the `!important` here to be able to override the default hidden behavior on the sphinx rendered scikit-learn.org. See: https://github.com/scikit-learn/scikit-learn/issues/21755 */display: inline-block !important;position: relative;}#sk-container-id-1 div.sk-text-repr-fallback {display: none;}</style><div id=\"sk-container-id-1\" class=\"sk-top-container\"><div class=\"sk-text-repr-fallback\"><pre>LinearRegression()</pre><b>In a Jupyter environment, please rerun this cell to show the HTML representation or trust the notebook. <br />On GitHub, the HTML representation is unable to render, please try loading this page with nbviewer.org.</b></div><div class=\"sk-container\" hidden><div class=\"sk-item\"><div class=\"sk-estimator sk-toggleable\"><input class=\"sk-toggleable__control sk-hidden--visually\" id=\"sk-estimator-id-1\" type=\"checkbox\" checked><label for=\"sk-estimator-id-1\" class=\"sk-toggleable__label sk-toggleable__label-arrow\">LinearRegression</label><div class=\"sk-toggleable__content\"><pre>LinearRegression()</pre></div></div></div></div></div>"
      ],
      "text/plain": [
       "LinearRegression()"
      ]
     },
     "execution_count": 28,
     "metadata": {},
     "output_type": "execute_result"
    }
   ],
   "source": [
    "# Linear Regression Model\n",
    "\n",
    "# Train a Linear Regression model\n",
    "linear_regression_model = LinearRegression()\n",
    "linear_regression_model.fit(X_train, y_train)"
   ]
  },
  {
   "cell_type": "code",
   "execution_count": 29,
   "id": "7b13c827-a517-4d5b-9c32-059f48d1c086",
   "metadata": {
    "tags": []
   },
   "outputs": [],
   "source": [
    "# Make predictions on the validation data using the Linear Regression model\n",
    "y_pred_val_linear = linear_regression_model.predict(X_val)"
   ]
  },
  {
   "cell_type": "code",
   "execution_count": 30,
   "id": "97b9fe0b-66eb-4e41-8efe-bb6bbd475ade",
   "metadata": {
    "tags": []
   },
   "outputs": [
    {
     "name": "stdout",
     "output_type": "stream",
     "text": [
      "Linear Regression - MSE on Validation Data: 68.2974388453441\n",
      "Linear Regression - RMSE on Validation Data: 8.264226451722152\n",
      "Linear Regression - MAE on Validation Data: 2.959254840767762\n",
      "Linear Regression - R-squared on Validation Data: 0.008478205254936255\n"
     ]
    }
   ],
   "source": [
    "# Calculate evaluation metrics for the Linear Regression model\n",
    "mse_linear = mean_squared_error(y_val, y_pred_val_linear)\n",
    "rmse_linear = np.sqrt(mse_linear)\n",
    "mae_linear = mean_absolute_error(y_val, y_pred_val_linear)\n",
    "r2_linear = r2_score(y_val, y_pred_val_linear)\n",
    "\n",
    "# Print the evaluation metrics\n",
    "print('Linear Regression - MSE on Validation Data:', mse_linear)\n",
    "print('Linear Regression - RMSE on Validation Data:', rmse_linear)\n",
    "print('Linear Regression - MAE on Validation Data:', mae_linear)\n",
    "print('Linear Regression - R-squared on Validation Data:', r2_linear)"
   ]
  },
  {
   "cell_type": "code",
   "execution_count": 31,
   "id": "bc53f3b2-cf2f-4f76-b665-f4c87d952e91",
   "metadata": {
    "tags": []
   },
   "outputs": [],
   "source": [
    "# Decision Tree Regression Model\n",
    "\n",
    "# Train a Decision Tree Regression model\n",
    "decision_tree_model = DecisionTreeRegressor(random_state=42)\n",
    "decision_tree_model.fit(X_train, y_train)\n",
    "\n",
    "# Make predictions on the validation data using the Decision Tree Regression model\n",
    "y_pred_val_dt = decision_tree_model.predict(X_val)"
   ]
  },
  {
   "cell_type": "code",
   "execution_count": 32,
   "id": "f78ae756-c792-4488-a65d-ab188f00aee8",
   "metadata": {
    "tags": []
   },
   "outputs": [
    {
     "name": "stdout",
     "output_type": "stream",
     "text": [
      "Decision Tree Regression - MSE on Validation Data: 8.480355185345362\n",
      "Decision Tree Regression - RMSE on Validation Data: 2.912104940647806\n",
      "Decision Tree Regression - MAE on Validation Data: 1.4492499076029806\n",
      "Decision Tree Regression - R-squared on Validation Data: 0.8768847392288056\n"
     ]
    }
   ],
   "source": [
    "# Calculate evaluation metrics for the Decision Tree Regression model\n",
    "mse_dt = mean_squared_error(y_val, y_pred_val_dt)\n",
    "rmse_dt = np.sqrt(mse_dt)\n",
    "mae_dt = mean_absolute_error(y_val, y_pred_val_dt)\n",
    "r2_dt = r2_score(y_val, y_pred_val_dt)\n",
    "\n",
    "\n",
    "# Print the evaluation metrics\n",
    "print('Decision Tree Regression - MSE on Validation Data:', mse_dt)\n",
    "print('Decision Tree Regression - RMSE on Validation Data:', rmse_dt)\n",
    "print('Decision Tree Regression - MAE on Validation Data:', mae_dt)\n",
    "print('Decision Tree Regression - R-squared on Validation Data:', r2_dt)"
   ]
  },
  {
   "cell_type": "code",
   "execution_count": 33,
   "id": "bb85e427-050b-4f19-bf6c-0b6e2bb34623",
   "metadata": {
    "tags": []
   },
   "outputs": [],
   "source": [
    "# Random Forest Regression Model\n",
    "\n",
    "# Train a Random Forest Regression model\n",
    "random_forest_model = RandomForestRegressor(random_state=42)\n",
    "random_forest_model.fit(X_train, y_train)\n",
    "\n",
    "# Make predictions on the validation data using the Random Forest Regression model\n",
    "y_pred_val_rf = random_forest_model.predict(X_val)"
   ]
  },
  {
   "cell_type": "code",
   "execution_count": 34,
   "id": "d0e9d404-3dad-4282-b097-92da003595b0",
   "metadata": {
    "tags": []
   },
   "outputs": [
    {
     "name": "stdout",
     "output_type": "stream",
     "text": [
      "Random Forest Regression - MSE on Validation Data: 8.048572539188951\n",
      "Random Forest Regression - RMSE on Validation Data: 2.8370006237554746\n",
      "Random Forest Regression - MAE on Validation Data: 1.442445410662965\n",
      "Random Forest Regression - R-squared on Validation Data: 0.8831532305733527\n"
     ]
    }
   ],
   "source": [
    "# Calculate evaluation metrics for the Random Forest Regression model\n",
    "mse_rf = mean_squared_error(y_val, y_pred_val_rf)\n",
    "rmse_rf = np.sqrt(mse_rf)\n",
    "mae_rf = mean_absolute_error(y_val, y_pred_val_rf)\n",
    "r2_rf = r2_score(y_val, y_pred_val_rf)\n",
    "\n",
    "# Print the evaluation metrics\n",
    "print('Random Forest Regression - MSE on Validation Data:', mse_rf)\n",
    "print('Random Forest Regression - RMSE on Validation Data:', rmse_rf)\n",
    "print('Random Forest Regression - MAE on Validation Data:', mae_rf)\n",
    "print('Random Forest Regression - R-squared on Validation Data:', r2_rf)"
   ]
  },
  {
   "cell_type": "code",
   "execution_count": 35,
   "id": "d3d42336-b6c2-45fc-8401-81536be0bfff",
   "metadata": {
    "tags": []
   },
   "outputs": [],
   "source": [
    "#Gradient Boosting Regression Model\n",
    "\n",
    "# Train a Gradient Boosting Regression model\n",
    "gradient_boosting_model = GradientBoostingRegressor(random_state=42)\n",
    "gradient_boosting_model.fit(X_train, y_train)\n",
    "\n",
    "# Make predictions on the validation data using the Gradient Boosting Regression model\n",
    "y_pred_val_gb = gradient_boosting_model.predict(X_val)"
   ]
  },
  {
   "cell_type": "code",
   "execution_count": 36,
   "id": "b6d1d754-55d2-4c4f-aa29-4eafb352c539",
   "metadata": {
    "tags": []
   },
   "outputs": [
    {
     "name": "stdout",
     "output_type": "stream",
     "text": [
      "Gradient Boosting Regression - MSE on Validation Data: 20.702791302444982\n",
      "Gradient Boosting Regression - RMSE on Validation Data: 4.550032011145085\n",
      "Gradient Boosting Regression - MAE on Validation Data: 2.3960064261377068\n",
      "Gradient Boosting Regression - R-squared on Validation Data: 0.6994430664535511\n"
     ]
    }
   ],
   "source": [
    "# Calculate evaluation metrics for the Gradient Boosting Regression model\n",
    "mse_gb = mean_squared_error(y_val, y_pred_val_gb)\n",
    "rmse_gb = np.sqrt(mse_gb)\n",
    "mae_gb = mean_absolute_error(y_val, y_pred_val_gb)\n",
    "r2_gb = r2_score(y_val, y_pred_val_gb)\n",
    "\n",
    "# Print the evaluation metrics\n",
    "print('Gradient Boosting Regression - MSE on Validation Data:', mse_gb)\n",
    "print('Gradient Boosting Regression - RMSE on Validation Data:', rmse_gb)\n",
    "print('Gradient Boosting Regression - MAE on Validation Data:', mae_gb)\n",
    "print('Gradient Boosting Regression - R-squared on Validation Data:', r2_gb)"
   ]
  },
  {
   "cell_type": "code",
   "execution_count": 37,
   "id": "d933aed7-59d3-4164-b727-945f41e43bb9",
   "metadata": {
    "tags": []
   },
   "outputs": [],
   "source": [
    "# We make predictions on the test set to check performance"
   ]
  },
  {
   "cell_type": "code",
   "execution_count": 38,
   "id": "a9fa6b43-861c-4462-9e1a-bc0436cbe4db",
   "metadata": {
    "tags": []
   },
   "outputs": [],
   "source": [
    "# Linear Regression Model\n",
    "# Make predictions on the test data using the Linear Regression model\n",
    "y_pred_test_linear = linear_regression_model.predict(X_test)"
   ]
  },
  {
   "cell_type": "code",
   "execution_count": 39,
   "id": "e4bb0b7c-1e4f-42a7-974d-0983c2c1a727",
   "metadata": {
    "tags": []
   },
   "outputs": [
    {
     "name": "stdout",
     "output_type": "stream",
     "text": [
      "Linear Regression - MSE on Test Data: 73.75818757097893\n",
      "Linear Regression - RMSE on Test Data: 8.588258704241444\n",
      "Linear Regression - MAE on Test Data: 2.956900278585905\n",
      "Linear Regression - R-squared on Test Data: 0.00748683546000295\n"
     ]
    }
   ],
   "source": [
    "# Calculate evaluation metrics for the Linear Regression model on the test set\n",
    "mse_linear_test = mean_squared_error(y_test, y_pred_test_linear)\n",
    "rmse_linear_test = np.sqrt(mse_linear_test)\n",
    "mae_linear_test = mean_absolute_error(y_test, y_pred_test_linear)\n",
    "r2_linear_test = r2_score(y_test, y_pred_test_linear)\n",
    "\n",
    "# Print the evaluation metrics for the Linear Regression model on the test set\n",
    "print('Linear Regression - MSE on Test Data:', mse_linear_test)\n",
    "print('Linear Regression - RMSE on Test Data:', rmse_linear_test)\n",
    "print('Linear Regression - MAE on Test Data:', mae_linear_test)\n",
    "print('Linear Regression - R-squared on Test Data:', r2_linear_test)"
   ]
  },
  {
   "cell_type": "code",
   "execution_count": 40,
   "id": "c14aa867-59dc-46ec-b33a-5880c87246df",
   "metadata": {
    "tags": []
   },
   "outputs": [],
   "source": [
    "# Decision Tree Regression Model\n",
    "# Make predictions on the test data using the Decision Tree Regression model\n",
    "y_pred_test_dt = decision_tree_model.predict(X_test)"
   ]
  },
  {
   "cell_type": "code",
   "execution_count": 41,
   "id": "25004fad-ce76-40cb-b8a9-64de1b2f2bd5",
   "metadata": {
    "tags": []
   },
   "outputs": [
    {
     "name": "stdout",
     "output_type": "stream",
     "text": [
      "Decision Tree Regression - MSE on Test Data: 8.357818938383994\n",
      "Decision Tree Regression - RMSE on Test Data: 2.890989266390312\n",
      "Decision Tree Regression - MAE on Test Data: 1.4396189606416119\n",
      "Decision Tree Regression - R-squared on Test Data: 0.887534582988429\n"
     ]
    }
   ],
   "source": [
    "# Calculate evaluation metrics for the Decision Tree Regression model on the test set\n",
    "mse_dt_test = mean_squared_error(y_test, y_pred_test_dt)\n",
    "rmse_dt_test = np.sqrt(mse_dt_test)\n",
    "mae_dt_test = mean_absolute_error(y_test, y_pred_test_dt)\n",
    "r2_dt_test = r2_score(y_test, y_pred_test_dt)\n",
    "\n",
    "# Print the evaluation metrics for the Decision Tree Regression model on the test set\n",
    "print('Decision Tree Regression - MSE on Test Data:', mse_dt_test)\n",
    "print('Decision Tree Regression - RMSE on Test Data:', rmse_dt_test)\n",
    "print('Decision Tree Regression - MAE on Test Data:', mae_dt_test)\n",
    "print('Decision Tree Regression - R-squared on Test Data:', r2_dt_test)"
   ]
  },
  {
   "cell_type": "code",
   "execution_count": 42,
   "id": "b9c93e68-a207-4ee3-b343-9003349b20d2",
   "metadata": {
    "tags": []
   },
   "outputs": [],
   "source": [
    "# Random Forest Regression Model\n",
    "# Make predictions on the test data using the Random Forest Regression model\n",
    "y_pred_test_rf = random_forest_model.predict(X_test)"
   ]
  },
  {
   "cell_type": "code",
   "execution_count": 43,
   "id": "f58986aa-d0f2-4cad-b4aa-22821490fbbf",
   "metadata": {
    "tags": []
   },
   "outputs": [
    {
     "name": "stdout",
     "output_type": "stream",
     "text": [
      "Random Forest Regression - MSE on Test Data: 8.09153975895079\n",
      "Random Forest Regression - RMSE on Test Data: 2.844563192996561\n",
      "Random Forest Regression - MAE on Test Data: 1.4340125756994184\n",
      "Random Forest Regression - R-squared on Test Data: 0.8911177186338927\n"
     ]
    }
   ],
   "source": [
    "# Calculate evaluation metrics for the Random Forest Regression model on the test set\n",
    "mse_rf_test = mean_squared_error(y_test, y_pred_test_rf)\n",
    "rmse_rf_test = np.sqrt(mse_rf_test)\n",
    "mae_rf_test = mean_absolute_error(y_test, y_pred_test_rf)\n",
    "r2_rf_test = r2_score(y_test, y_pred_test_rf)\n",
    "\n",
    "# Print the evaluation metrics for the Random Forest Regression model on the test set\n",
    "print('Random Forest Regression - MSE on Test Data:', mse_rf_test)\n",
    "print('Random Forest Regression - RMSE on Test Data:', rmse_rf_test)\n",
    "print('Random Forest Regression - MAE on Test Data:', mae_rf_test)\n",
    "print('Random Forest Regression - R-squared on Test Data:', r2_rf_test)"
   ]
  },
  {
   "cell_type": "code",
   "execution_count": 44,
   "id": "7f4b5b87-67f2-4df3-806d-2c37c1e4026b",
   "metadata": {
    "tags": []
   },
   "outputs": [],
   "source": [
    "# Gradient Boosting Regression Model\n",
    "# Make predictions on the test data using the Gradient Boosting Regression model\n",
    "y_pred_test_gb = gradient_boosting_model.predict(X_test)"
   ]
  },
  {
   "cell_type": "code",
   "execution_count": 45,
   "id": "31aa4c4b-4226-46ff-80d6-4960a0e3b36c",
   "metadata": {
    "tags": []
   },
   "outputs": [
    {
     "name": "stdout",
     "output_type": "stream",
     "text": [
      "Gradient Boosting Regression - MSE on Test Data: 19.401158671825613\n",
      "Gradient Boosting Regression - RMSE on Test Data: 4.4046746385886\n",
      "Gradient Boosting Regression - MAE on Test Data: 2.380524527795953\n",
      "Gradient Boosting Regression - R-squared on Test Data: 0.7389319610031644\n"
     ]
    }
   ],
   "source": [
    "# Calculate evaluation metrics for the Gradient Boosting Regression model on the test set\n",
    "mse_gb_test = mean_squared_error(y_test, y_pred_test_gb)\n",
    "rmse_gb_test = np.sqrt(mse_gb_test)\n",
    "mae_gb_test = mean_absolute_error(y_test, y_pred_test_gb)\n",
    "r2_gb_test = r2_score(y_test, y_pred_test_gb)\n",
    "\n",
    "# Print the evaluation metrics for the Gradient Boosting Regression model on the test set\n",
    "print('Gradient Boosting Regression - MSE on Test Data:', mse_gb_test)\n",
    "print('Gradient Boosting Regression - RMSE on Test Data:', rmse_gb_test)\n",
    "print('Gradient Boosting Regression - MAE on Test Data:', mae_gb_test)\n",
    "print('Gradient Boosting Regression - R-squared on Test Data:', r2_gb_test)"
   ]
  },
  {
   "cell_type": "code",
   "execution_count": 46,
   "id": "050c5cb3-cc30-4136-8eb2-2a4399c20855",
   "metadata": {
    "tags": []
   },
   "outputs": [],
   "source": [
    "# Evaluation Metrics\n",
    "\n",
    "# Calculate Mean Percentage Error (MAPE)\n",
    "def calculate_mape(y_true, y_pred):\n",
    "    return np.mean(np.abs((y_true - y_pred) / y_true)) * 100\n",
    "\n",
    "mape_linear = calculate_mape(y_val, y_pred_val_linear)\n",
    "mape_dt = calculate_mape(y_val, y_pred_val_dt)\n",
    "mape_rf = calculate_mape(y_val, y_pred_val_rf)\n",
    "mape_gb = calculate_mape(y_val, y_pred_val_gb)\n",
    "# MAPE measures the average prediction error as a percentage. The lower the value the better"
   ]
  },
  {
   "cell_type": "code",
   "execution_count": 47,
   "id": "41f9f036-739a-4d62-bf2f-95809a33e68b",
   "metadata": {
    "tags": []
   },
   "outputs": [],
   "source": [
    "# Define custom business-specific metrics: Profit Prediction Accuracy and Price Sensitivity\n",
    "\n",
    "# Custom Business-Specific Metric: Profit Prediction Accuracy\n",
    "# Assuming that profit depends on both price and quantity we can calculate the profit prediction accuracy.\n",
    "# Profit = (Predicted Price * Quantity) - (Actual Price * Quantity)\n",
    "# Profit Prediction Accuracy = 1 - (Sum of Absolute Profit Differences) / (Sum of Actual Profits)\n",
    "def calculate_profit_accuracy(y_true, y_pred, quantity):\n",
    "    actual_profit = (y_true * quantity).sum()\n",
    "    predicted_profit = (y_pred * quantity).sum()\n",
    "    profit_difference = np.abs((y_pred * quantity) - (y_true * quantity)).sum()\n",
    "    return 1 - (profit_difference / actual_profit)\n",
    "\n",
    "profit_accuracy_linear = calculate_profit_accuracy(y_val, y_pred_val_linear, df_val['Quantity'])\n",
    "profit_accuracy_dt = calculate_profit_accuracy(y_val, y_pred_val_dt, df_val['Quantity'])\n",
    "profit_accuracy_rf = calculate_profit_accuracy(y_val, y_pred_val_rf, df_val['Quantity'])\n",
    "profit_accuracy_gb = calculate_profit_accuracy(y_val, y_pred_val_gb, df_val['Quantity'])\n",
    "# Proft Prediction Accuracy measures how accurately our model predicts profit based on price and quantity"
   ]
  },
  {
   "cell_type": "code",
   "execution_count": 48,
   "id": "d9540109-26c7-4714-9430-e0259bb604e9",
   "metadata": {
    "tags": []
   },
   "outputs": [],
   "source": [
    "# Custom Business-Specific Metric: Price Sensitivity\n",
    "# Price Sensitivity measures how changes in product price affect quantity sold.\n",
    "# Calculate Price Sensitivity as the absolute difference between the predicted and actual quantities sold.\n",
    "# Price Sensitivity = Predicted Quantity - Actual Quantity\n",
    "price_sensitivity_linear = np.abs(y_pred_val_linear - df_val['Quantity']).mean()\n",
    "price_sensitivity_dt = np.abs(y_pred_val_dt - df_val['Quantity']).mean()\n",
    "price_sensitivity_rf = np.abs(y_pred_val_rf - df_val['Quantity']).mean()\n",
    "price_sensitivity_gb = np.abs(y_pred_val_gb - df_val['Quantity']).mean()"
   ]
  },
  {
   "cell_type": "code",
   "execution_count": 49,
   "id": "17bf2f0f-813f-4e9e-8993-ac82e761db7d",
   "metadata": {
    "tags": []
   },
   "outputs": [
    {
     "name": "stdout",
     "output_type": "stream",
     "text": [
      "Linear Regression Metrics:\n",
      "MSE: 68.30\n",
      "RMSE: 8.26\n",
      "MAE: 2.96\n",
      "R-squared: 0.01\n",
      "MAPE: 26.78%\n",
      "Profit Prediction Accuracy: 45.22%\n",
      "Price Sensitivity: 13.36\n"
     ]
    }
   ],
   "source": [
    "# Print Evaluation Metrics\n",
    "print(\"Linear Regression Metrics:\")\n",
    "print(f\"MSE: {mse_linear:.2f}\")\n",
    "print(f\"RMSE: {rmse_linear:.2f}\")\n",
    "print(f\"MAE: {mae_linear:.2f}\")\n",
    "print(f\"R-squared: {r2_linear:.2f}\")\n",
    "print(f\"MAPE: {mape_linear:.2f}%\")\n",
    "print(f\"Profit Prediction Accuracy: {profit_accuracy_linear:.2%}\")\n",
    "print(f\"Price Sensitivity: {price_sensitivity_linear:.2f}\")"
   ]
  },
  {
   "cell_type": "code",
   "execution_count": 50,
   "id": "cc3d31c3-da63-4065-8c88-db82a7961bdc",
   "metadata": {
    "tags": []
   },
   "outputs": [
    {
     "name": "stdout",
     "output_type": "stream",
     "text": [
      "\n",
      "Decision Tree Regression Metrics:\n",
      "MSE: 8.48\n",
      "RMSE: 2.91\n",
      "MAE: 1.45\n",
      "R-squared: 0.88\n",
      "MAPE: 14.54%\n",
      "Profit Prediction Accuracy: 87.68%\n",
      "Price Sensitivity: 14.15\n"
     ]
    }
   ],
   "source": [
    "print(\"\\nDecision Tree Regression Metrics:\")\n",
    "print(f\"MSE: {mse_dt:.2f}\")\n",
    "print(f\"RMSE: {rmse_dt:.2f}\")\n",
    "print(f\"MAE: {mae_dt:.2f}\")\n",
    "print(f\"R-squared: {r2_dt:.2f}\")\n",
    "print(f\"MAPE: {mape_dt:.2f}%\")\n",
    "print(f\"Profit Prediction Accuracy: {profit_accuracy_dt:.2%}\")\n",
    "print(f\"Price Sensitivity: {price_sensitivity_dt:.2f}\")"
   ]
  },
  {
   "cell_type": "code",
   "execution_count": 51,
   "id": "7b2850f2-52f0-4a0c-a8fe-84fcb1651a87",
   "metadata": {
    "tags": []
   },
   "outputs": [
    {
     "name": "stdout",
     "output_type": "stream",
     "text": [
      "\n",
      "Random Forest Regression Metrics:\n",
      "MSE: 8.05\n",
      "RMSE: 2.84\n",
      "MAE: 1.44\n",
      "R-squared: 0.88\n",
      "MAPE: 14.45%\n",
      "Profit Prediction Accuracy: 87.68%\n",
      "Price Sensitivity: 14.14\n"
     ]
    }
   ],
   "source": [
    "print(\"\\nRandom Forest Regression Metrics:\")\n",
    "print(f\"MSE: {mse_rf:.2f}\")\n",
    "print(f\"RMSE: {rmse_rf:.2f}\")\n",
    "print(f\"MAE: {mae_rf:.2f}\")\n",
    "print(f\"R-squared: {r2_rf:.2f}\")\n",
    "print(f\"MAPE: {mape_rf:.2f}%\")\n",
    "print(f\"Profit Prediction Accuracy: {profit_accuracy_rf:.2%}\")\n",
    "print(f\"Price Sensitivity: {price_sensitivity_rf:.2f}\")"
   ]
  },
  {
   "cell_type": "code",
   "execution_count": 52,
   "id": "706d138d-ff52-4184-93ff-8b7b019a2866",
   "metadata": {
    "tags": []
   },
   "outputs": [
    {
     "name": "stdout",
     "output_type": "stream",
     "text": [
      "\n",
      "Gradient Boosting Regression Metrics:\n",
      "MSE: 20.70\n",
      "RMSE: 4.55\n",
      "MAE: 2.40\n",
      "R-squared: 0.70\n",
      "MAPE: 21.63%\n",
      "Profit Prediction Accuracy: 83.92%\n",
      "Price Sensitivity: 14.01\n"
     ]
    }
   ],
   "source": [
    "print(\"\\nGradient Boosting Regression Metrics:\")\n",
    "print(f\"MSE: {mse_gb:.2f}\")\n",
    "print(f\"RMSE: {rmse_gb:.2f}\")\n",
    "print(f\"MAE: {mae_gb:.2f}\")\n",
    "print(f\"R-squared: {r2_gb:.2f}\")\n",
    "print(f\"MAPE: {mape_gb:.2f}%\")\n",
    "print(f\"Profit Prediction Accuracy: {profit_accuracy_gb:.2%}\")\n",
    "print(f\"Price Sensitivity: {price_sensitivity_gb:.2f}\")"
   ]
  },
  {
   "cell_type": "markdown",
   "id": "788b5d1e-028f-4a01-bb46-aab5a0acaad1",
   "metadata": {},
   "source": [
    "Conclusion and Recommendations\n",
    "\n",
    "The business can leverage seasonal sales trends by offering targeted promotions and discounts during peak shopping periods.\n",
    "\n",
    "The business can also optimize inventory management by ensuring adequate stock levels of frequently purchased products.\n",
    "They can also implement pricing strategies that encourage larger basket sizes to capitalize on customer behavior insights.\n",
    "\n",
    "Their main marketing focus should be on profitable customer segments to maximize return on investment.\n",
    "\n",
    "Random Forest is the best model for price prediction as it has the lowest MSE, RMSE, and MAE, and the highest Profit Prediction Accuracy and Price Sensitivity\n",
    "\n",
    "Model Strengths:\n",
    "Random Forest is known for handling complex relationships in data, which is often the case in business scenarios.\n",
    "It provides high prediction accuracy for both profit and price sensitivity.\n",
    "\n",
    "Model Limitations:\n",
    "While Random Forest is powerful, it can be computationally intensive and may not be suitable for real-time applications.\n",
    "It might overfit the data if not properly tuned, leading to overly optimistic predictions.\n",
    "\n",
    "Data-Driven Recommendations:\n",
    "Collect more relevant data: Gathering more data, especially if it includes additional business features, could improve model performance.\n",
    "Feature engineering: Create new features that might have an impact on profit or price sensitivity.\n",
    "\n",
    "Incorporating Domain Features:\n",
    "Consider including domain-specific features like marketing campaign data, customer demographics, or economic indicators if available. These can enhance predictions.\n",
    "\n",
    "Potential Improvements:\n",
    "Fine-tune the Random Forest model: Adjust hyperparameters to optimize performance.\n",
    "Regularly update the model: As new data becomes available, retrain the model to keep it accurate.\n",
    "Explore other advanced techniques like neural networks if the business problem complexity warrants it."
   ]
  },
  {
   "cell_type": "code",
   "execution_count": null,
   "id": "f3120412-44d1-4594-99cd-e3f3b0ba320b",
   "metadata": {},
   "outputs": [],
   "source": []
  }
 ],
 "metadata": {
  "kernelspec": {
   "display_name": "Python 3 (ipykernel)",
   "language": "python",
   "name": "python3"
  },
  "language_info": {
   "codemirror_mode": {
    "name": "ipython",
    "version": 3
   },
   "file_extension": ".py",
   "mimetype": "text/x-python",
   "name": "python",
   "nbconvert_exporter": "python",
   "pygments_lexer": "ipython3",
   "version": "3.11.5"
  }
 },
 "nbformat": 4,
 "nbformat_minor": 5
}
